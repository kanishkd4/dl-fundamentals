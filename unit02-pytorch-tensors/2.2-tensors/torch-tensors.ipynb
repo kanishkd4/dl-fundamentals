{
  "cells": [
    {
      "cell_type": "markdown",
      "id": "395bb3d1-4256-487e-94ff-8fde7462063b",
      "metadata": {
        "id": "395bb3d1-4256-487e-94ff-8fde7462063b"
      },
      "source": [
        "## Scalar"
      ]
    },
    {
      "cell_type": "markdown",
      "id": "426cc588-7a5d-4cc6-8ffc-17751c80e1ec",
      "metadata": {
        "id": "426cc588-7a5d-4cc6-8ffc-17751c80e1ec"
      },
      "source": [
        "**A single float number in Python:**"
      ]
    },
    {
      "cell_type": "code",
      "execution_count": 1,
      "id": "f11ef449-86e3-4be1-8fec-32984883b3fb",
      "metadata": {
        "id": "f11ef449-86e3-4be1-8fec-32984883b3fb",
        "outputId": "96793668-7973-4324-c202-ede12d2cee13",
        "colab": {
          "base_uri": "https://localhost:8080/"
        }
      },
      "outputs": [
        {
          "output_type": "stream",
          "name": "stdout",
          "text": [
            "1.0\n"
          ]
        }
      ],
      "source": [
        "a = 1.\n",
        "print(a)"
      ]
    },
    {
      "cell_type": "markdown",
      "id": "e2359bfa-e875-48e5-92e9-16d3abc737b9",
      "metadata": {
        "id": "e2359bfa-e875-48e5-92e9-16d3abc737b9"
      },
      "source": [
        "**A single float number in PyTorch as a tensor type:**"
      ]
    },
    {
      "cell_type": "code",
      "execution_count": 2,
      "id": "4e7f268e-7eb5-4fb5-b373-a18356a175b6",
      "metadata": {
        "id": "4e7f268e-7eb5-4fb5-b373-a18356a175b6",
        "outputId": "994a341d-1843-4383-bb7b-230e8be371ea",
        "colab": {
          "base_uri": "https://localhost:8080/"
        }
      },
      "outputs": [
        {
          "output_type": "stream",
          "name": "stdout",
          "text": [
            "tensor(1.)\n"
          ]
        }
      ],
      "source": [
        "import torch\n",
        "\n",
        "a = torch.tensor(1.)\n",
        "print(a)"
      ]
    },
    {
      "cell_type": "markdown",
      "id": "debc3a0d-3dd6-413f-98ed-add3585af9e1",
      "metadata": {
        "id": "debc3a0d-3dd6-413f-98ed-add3585af9e1"
      },
      "source": [
        "**Show the shape of the tensor (a scalar is a rank-0 tensor):**"
      ]
    },
    {
      "cell_type": "code",
      "execution_count": 3,
      "id": "9490d81b-0ac0-4f81-b574-75c704eb9944",
      "metadata": {
        "id": "9490d81b-0ac0-4f81-b574-75c704eb9944",
        "outputId": "39db74b8-85d6-4912-e051-f4ac54fff175",
        "colab": {
          "base_uri": "https://localhost:8080/"
        }
      },
      "outputs": [
        {
          "output_type": "stream",
          "name": "stdout",
          "text": [
            "torch.Size([])\n"
          ]
        }
      ],
      "source": [
        "print(a.shape)"
      ]
    },
    {
      "cell_type": "markdown",
      "id": "a34a72c2-bde1-4ebc-abdb-bd62d3aed727",
      "metadata": {
        "id": "a34a72c2-bde1-4ebc-abdb-bd62d3aed727"
      },
      "source": [
        "<br> <br>"
      ]
    },
    {
      "cell_type": "markdown",
      "id": "a612069b-dce3-4a3d-8295-530003b835c7",
      "metadata": {
        "id": "a612069b-dce3-4a3d-8295-530003b835c7"
      },
      "source": [
        "## Vector"
      ]
    },
    {
      "cell_type": "markdown",
      "id": "6394bc11-49e6-4058-abe4-5225cdee1acd",
      "metadata": {
        "id": "6394bc11-49e6-4058-abe4-5225cdee1acd"
      },
      "source": [
        "**A list of numbers in a `Python` list:**"
      ]
    },
    {
      "cell_type": "code",
      "execution_count": 4,
      "id": "7fc93fa2-2ca6-4546-b005-8919fba4d674",
      "metadata": {
        "id": "7fc93fa2-2ca6-4546-b005-8919fba4d674",
        "outputId": "c0fd4bac-42d5-4a42-fdd6-90911cb71516",
        "colab": {
          "base_uri": "https://localhost:8080/"
        }
      },
      "outputs": [
        {
          "output_type": "stream",
          "name": "stdout",
          "text": [
            "[1.0, 2.0, 3.0]\n"
          ]
        }
      ],
      "source": [
        "a = [1., 2., 3.]\n",
        "print(a)"
      ]
    },
    {
      "cell_type": "markdown",
      "id": "66b2dfa0-6e1d-4d34-b6e3-d986bd884c7b",
      "metadata": {
        "id": "66b2dfa0-6e1d-4d34-b6e3-d986bd884c7b"
      },
      "source": [
        "**A list of numbers as a PyTorch tensor (rank-1 tensor):**"
      ]
    },
    {
      "cell_type": "code",
      "execution_count": null,
      "id": "c78b7684-9bf6-442c-97aa-45c316327a0b",
      "metadata": {
        "id": "c78b7684-9bf6-442c-97aa-45c316327a0b",
        "outputId": "b42cef14-55f0-4ca1-ac2d-fd94a9e1aec0"
      },
      "outputs": [
        {
          "name": "stdout",
          "output_type": "stream",
          "text": [
            "tensor([1., 2., 3.])\n"
          ]
        }
      ],
      "source": [
        "a = torch.tensor([1., 2., 3.])\n",
        "print(a)"
      ]
    },
    {
      "cell_type": "code",
      "execution_count": null,
      "id": "5d89da0e-5478-4f24-aed2-2e4ef2f1bfcc",
      "metadata": {
        "id": "5d89da0e-5478-4f24-aed2-2e4ef2f1bfcc",
        "outputId": "47b8e726-d198-4a8b-8808-b5a4091399ef"
      },
      "outputs": [
        {
          "name": "stdout",
          "output_type": "stream",
          "text": [
            "torch.Size([3])\n"
          ]
        }
      ],
      "source": [
        "print(a.shape)"
      ]
    },
    {
      "cell_type": "markdown",
      "id": "2d8d1e03-725a-4205-a184-1eadb45e0e9b",
      "metadata": {
        "id": "2d8d1e03-725a-4205-a184-1eadb45e0e9b"
      },
      "source": [
        "<br> <br>"
      ]
    },
    {
      "cell_type": "markdown",
      "id": "62f5231d-9fa8-4548-a243-c788fc146a86",
      "metadata": {
        "id": "62f5231d-9fa8-4548-a243-c788fc146a86"
      },
      "source": [
        "## Matrix"
      ]
    },
    {
      "cell_type": "markdown",
      "id": "0a1316c5-cb06-4e1c-b041-cea2b2493172",
      "metadata": {
        "id": "0a1316c5-cb06-4e1c-b041-cea2b2493172"
      },
      "source": [
        "**A 2x3 matrix:**"
      ]
    },
    {
      "cell_type": "code",
      "execution_count": null,
      "id": "ad7ff3e9-2add-4f57-94be-217d9304324f",
      "metadata": {
        "id": "ad7ff3e9-2add-4f57-94be-217d9304324f",
        "outputId": "9568bfc8-29e5-4bd3-cad4-3a17538562e3"
      },
      "outputs": [
        {
          "data": {
            "text/plain": [
              "torch.Size([2, 3])"
            ]
          },
          "execution_count": 5,
          "metadata": {},
          "output_type": "execute_result"
        }
      ],
      "source": [
        "a = torch.tensor([[1., 2., 3.],\n",
        "                  [2., 3., 4.]])\n",
        "a.shape"
      ]
    },
    {
      "cell_type": "markdown",
      "id": "55858ce1-2efe-4326-9958-831260da936a",
      "metadata": {
        "id": "55858ce1-2efe-4326-9958-831260da936a"
      },
      "source": [
        "<br> <br>"
      ]
    },
    {
      "cell_type": "markdown",
      "id": "42f678cc-9d3d-4450-a8de-13fdaab4c137",
      "metadata": {
        "id": "42f678cc-9d3d-4450-a8de-13fdaab4c137"
      },
      "source": [
        "**A 2x2x3 matrix:**"
      ]
    },
    {
      "cell_type": "code",
      "execution_count": null,
      "id": "78808ad5-0bab-4ed8-82c3-071194a52e0a",
      "metadata": {
        "id": "78808ad5-0bab-4ed8-82c3-071194a52e0a",
        "outputId": "e5c4c069-12d3-4a4b-e4db-0b4114514db8"
      },
      "outputs": [
        {
          "data": {
            "text/plain": [
              "torch.Size([2, 2, 3])"
            ]
          },
          "execution_count": 6,
          "metadata": {},
          "output_type": "execute_result"
        }
      ],
      "source": [
        "a = torch.tensor([[[1., 2., 3.],\n",
        "                   [2., 3., 4.]],\n",
        "                  [[5., 6., 7.],\n",
        "                   [8., 9., 10.]]])\n",
        "a.shape"
      ]
    },
    {
      "cell_type": "markdown",
      "id": "064dcfc7-a832-4feb-8fe2-5b9fadbf3380",
      "metadata": {
        "id": "064dcfc7-a832-4feb-8fe2-5b9fadbf3380"
      },
      "source": [
        "<br> <br>"
      ]
    },
    {
      "cell_type": "markdown",
      "id": "d95588fe-3847-4466-a743-82a42e965e2b",
      "metadata": {
        "id": "d95588fe-3847-4466-a743-82a42e965e2b"
      },
      "source": [
        "**Transfer the matrix to GPU memory:**"
      ]
    },
    {
      "cell_type": "code",
      "execution_count": null,
      "id": "c6ada86b-e2f6-46ec-b4c7-208b61838035",
      "metadata": {
        "id": "c6ada86b-e2f6-46ec-b4c7-208b61838035",
        "outputId": "aa1b454a-5cd3-43c6-868b-4e182bee64fc"
      },
      "outputs": [
        {
          "ename": "AssertionError",
          "evalue": "Torch not compiled with CUDA enabled",
          "output_type": "error",
          "traceback": [
            "\u001b[0;31m---------------------------------------------------------------------------\u001b[0m",
            "\u001b[0;31mAssertionError\u001b[0m                            Traceback (most recent call last)",
            "Input \u001b[0;32mIn [7]\u001b[0m, in \u001b[0;36m<module>\u001b[0;34m\u001b[0m\n\u001b[0;32m----> 1\u001b[0m \u001b[43ma\u001b[49m\u001b[38;5;241;43m.\u001b[39;49m\u001b[43mto\u001b[49m\u001b[43m(\u001b[49m\u001b[38;5;124;43m'\u001b[39;49m\u001b[38;5;124;43mcuda:0\u001b[39;49m\u001b[38;5;124;43m'\u001b[39;49m\u001b[43m)\u001b[49m\n",
            "File \u001b[0;32m~/miniforge3/lib/python3.9/site-packages/torch/cuda/__init__.py:208\u001b[0m, in \u001b[0;36m_lazy_init\u001b[0;34m()\u001b[0m\n\u001b[1;32m    204\u001b[0m     \u001b[38;5;28;01mraise\u001b[39;00m \u001b[38;5;167;01mRuntimeError\u001b[39;00m(\n\u001b[1;32m    205\u001b[0m         \u001b[38;5;124m\"\u001b[39m\u001b[38;5;124mCannot re-initialize CUDA in forked subprocess. To use CUDA with \u001b[39m\u001b[38;5;124m\"\u001b[39m\n\u001b[1;32m    206\u001b[0m         \u001b[38;5;124m\"\u001b[39m\u001b[38;5;124mmultiprocessing, you must use the \u001b[39m\u001b[38;5;124m'\u001b[39m\u001b[38;5;124mspawn\u001b[39m\u001b[38;5;124m'\u001b[39m\u001b[38;5;124m start method\u001b[39m\u001b[38;5;124m\"\u001b[39m)\n\u001b[1;32m    207\u001b[0m \u001b[38;5;28;01mif\u001b[39;00m \u001b[38;5;129;01mnot\u001b[39;00m \u001b[38;5;28mhasattr\u001b[39m(torch\u001b[38;5;241m.\u001b[39m_C, \u001b[38;5;124m'\u001b[39m\u001b[38;5;124m_cuda_getDeviceCount\u001b[39m\u001b[38;5;124m'\u001b[39m):\n\u001b[0;32m--> 208\u001b[0m     \u001b[38;5;28;01mraise\u001b[39;00m \u001b[38;5;167;01mAssertionError\u001b[39;00m(\u001b[38;5;124m\"\u001b[39m\u001b[38;5;124mTorch not compiled with CUDA enabled\u001b[39m\u001b[38;5;124m\"\u001b[39m)\n\u001b[1;32m    209\u001b[0m \u001b[38;5;28;01mif\u001b[39;00m _cudart \u001b[38;5;129;01mis\u001b[39;00m \u001b[38;5;28;01mNone\u001b[39;00m:\n\u001b[1;32m    210\u001b[0m     \u001b[38;5;28;01mraise\u001b[39;00m \u001b[38;5;167;01mAssertionError\u001b[39;00m(\n\u001b[1;32m    211\u001b[0m         \u001b[38;5;124m\"\u001b[39m\u001b[38;5;124mlibcudart functions unavailable. It looks like you have a broken build?\u001b[39m\u001b[38;5;124m\"\u001b[39m)\n",
            "\u001b[0;31mAssertionError\u001b[0m: Torch not compiled with CUDA enabled"
          ]
        }
      ],
      "source": [
        "a.to('cuda:0')"
      ]
    },
    {
      "cell_type": "markdown",
      "id": "a6eb9271-d412-4c9d-a268-f51f98dc4200",
      "metadata": {
        "id": "a6eb9271-d412-4c9d-a268-f51f98dc4200"
      },
      "source": [
        "If you see this error above, you need to install the CUDA version of PyTorch. See https://pytorch.org/get-started/locally/ for details. (Note that the CUDA version requires an NVIDIA GPU)"
      ]
    },
    {
      "cell_type": "markdown",
      "id": "0c490e69-06c9-491c-a13b-2a21b49f5189",
      "metadata": {
        "id": "0c490e69-06c9-491c-a13b-2a21b49f5189"
      },
      "source": [
        "<br> <br>"
      ]
    },
    {
      "cell_type": "markdown",
      "id": "d855ffed-c535-4f3f-bb76-852b7d7a5e75",
      "metadata": {
        "id": "d855ffed-c535-4f3f-bb76-852b7d7a5e75"
      },
      "source": [
        "**Stacking 2 matrices:**"
      ]
    },
    {
      "cell_type": "code",
      "execution_count": null,
      "id": "1e9f4a87-459a-465a-8980-bad54d2e8d56",
      "metadata": {
        "id": "1e9f4a87-459a-465a-8980-bad54d2e8d56",
        "outputId": "aee7c201-0d5f-446c-f71f-3e1818821741"
      },
      "outputs": [
        {
          "data": {
            "text/plain": [
              "torch.Size([2, 2, 3])"
            ]
          },
          "execution_count": 15,
          "metadata": {},
          "output_type": "execute_result"
        }
      ],
      "source": [
        "a = torch.tensor([[[1., 2., 3.],\n",
        "                   [2., 3., 4.]],\n",
        "                 [[5., 6., 7.],\n",
        "                   [8., 9., 10.]]])\n",
        "a.shape"
      ]
    },
    {
      "cell_type": "code",
      "execution_count": null,
      "id": "79802bf0-0bf6-4a69-bca9-2c4635bc1f49",
      "metadata": {
        "id": "79802bf0-0bf6-4a69-bca9-2c4635bc1f49",
        "outputId": "dc9f3cfb-f11c-48bb-a5c5-4a9b591637e1"
      },
      "outputs": [
        {
          "data": {
            "text/plain": [
              "torch.Size([2, 2, 2, 3])"
            ]
          },
          "execution_count": 20,
          "metadata": {},
          "output_type": "execute_result"
        }
      ],
      "source": [
        "b = torch.stack((a, a))\n",
        "b.shape"
      ]
    },
    {
      "cell_type": "code",
      "execution_count": null,
      "id": "424b045e-ae73-4621-905a-d03a9138c2d5",
      "metadata": {
        "id": "424b045e-ae73-4621-905a-d03a9138c2d5",
        "outputId": "4eda9861-1c4e-4214-99a7-e361df48f57c"
      },
      "outputs": [
        {
          "data": {
            "text/plain": [
              "tensor([[[[ 1.,  2.,  3.],\n",
              "          [ 2.,  3.,  4.]],\n",
              "\n",
              "         [[ 5.,  6.,  7.],\n",
              "          [ 8.,  9., 10.]]],\n",
              "\n",
              "\n",
              "        [[[ 1.,  2.,  3.],\n",
              "          [ 2.,  3.,  4.]],\n",
              "\n",
              "         [[ 5.,  6.,  7.],\n",
              "          [ 8.,  9., 10.]]]])"
            ]
          },
          "execution_count": 21,
          "metadata": {},
          "output_type": "execute_result"
        }
      ],
      "source": [
        "b"
      ]
    },
    {
      "cell_type": "code",
      "execution_count": null,
      "id": "93e18f54-3db3-4085-b60f-fb8483e57379",
      "metadata": {
        "id": "93e18f54-3db3-4085-b60f-fb8483e57379"
      },
      "outputs": [],
      "source": []
    }
  ],
  "metadata": {
    "kernelspec": {
      "display_name": "Python 3 (ipykernel)",
      "language": "python",
      "name": "python3"
    },
    "language_info": {
      "codemirror_mode": {
        "name": "ipython",
        "version": 3
      },
      "file_extension": ".py",
      "mimetype": "text/x-python",
      "name": "python",
      "nbconvert_exporter": "python",
      "pygments_lexer": "ipython3",
      "version": "3.9.7"
    },
    "colab": {
      "provenance": []
    }
  },
  "nbformat": 4,
  "nbformat_minor": 5
}